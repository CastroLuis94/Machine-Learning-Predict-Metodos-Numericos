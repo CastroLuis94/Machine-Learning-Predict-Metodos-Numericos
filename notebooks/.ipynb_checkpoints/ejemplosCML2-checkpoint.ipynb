{
 "cells": [
  {
   "cell_type": "code",
   "execution_count": 1,
   "metadata": {},
   "outputs": [],
   "source": [
    "import pandas as pd                  # Para trabajar con datos\n",
    "import numpy as np                   # Para cosas de álgebra lineal\n",
    "import matplotlib.pyplot as plt      # Para gráficos\n",
    "\n",
    "import warnings\n",
    "warnings.filterwarnings('ignore')  # Cállese, hombre horrible!"
   ]
  },
  {
   "cell_type": "markdown",
   "metadata": {},
   "source": [
    "# Predicción con Cuadrados Mínimos Lineales\n",
    "### Visualización"
   ]
  },
  {
   "cell_type": "code",
   "execution_count": 2,
   "metadata": {},
   "outputs": [
    {
     "name": "stdout",
     "output_type": "stream",
     "text": [
      "Las primeras 8 filas de los datos:\n",
      "\n",
      "   x          y\n",
      "0  0  19.184917\n",
      "1  1  24.238282\n",
      "2  2  25.516969\n",
      "3  3  21.132415\n",
      "4  4  18.515618\n",
      "5  5  16.674168\n",
      "6  6  21.679375\n",
      "7  7  73.866501\n"
     ]
    }
   ],
   "source": [
    "# Levanto los datos\n",
    "import pandas as pd\n",
    "# https://pandas.pydata.org/pandas-docs/stable/generated/pandas.rea[d_csv.html\n",
    "df = pd.read_csv('datos.csv')\n",
    "\n",
    "print(\"Las primeras 8 filas de los datos:\", df.head(8), sep=\"\\n\\n\")"
   ]
  },
  {
   "cell_type": "code",
   "execution_count": 3,
   "metadata": {},
   "outputs": [
    {
     "name": "stdout",
     "output_type": "stream",
     "text": [
      "Decripción de los datos:\n",
      "\n",
      "               x          y\n",
      "count  60.000000  60.000000\n",
      "mean   29.500000  28.975082\n",
      "std    17.464249  13.771049\n",
      "min     0.000000 -16.997848\n",
      "25%    14.750000  23.874282\n",
      "50%    29.500000  28.227643\n",
      "75%    44.250000  33.404901\n",
      "max    59.000000  73.866501\n"
     ]
    }
   ],
   "source": [
    "print(\"Decripción de los datos:\", df.describe(), sep=\"\\n\\n\")"
   ]
  },
  {
   "cell_type": "code",
   "execution_count": 3,
   "metadata": {
    "scrolled": true
   },
   "outputs": [
    {
     "data": {
      "image/png": "[encoded data removed]",
      "text/plain": [
       "<Figure size 432x288 with 1 Axes>"
      ]
     },
     "metadata": {
      "needs_background": "light"
     },
     "output_type": "display_data"
    }
   ],
   "source": [
    "# Grafico los datos\n",
    "import numpy as np                   # Para cosas de álgebra lineal\n",
    "import matplotlib.pyplot as plt\n",
    "\n",
    "plt.plot(df['x'], df['y'],'bo')\n",
    "plt.show()"
   ]
  },
  {
   "cell_type": "code",
   "execution_count": 4,
   "metadata": {},
   "outputs": [],
   "source": [
    "# Defino una clase para encapsular el ajuste por CML\n",
    "\n",
    "class TP3:\n",
    "    def __init__(self, func):\n",
    "        self.family = func\n",
    "        self.coef = None\n",
    "        self.matrix = []\n",
    "        if func != 'pol':\n",
    "            raise(\"ERROR: solo se fitear polinomios\")\n",
    "\n",
    "    def armar_matriz_A(self, grado ,xs):\n",
    "        res = []\n",
    "        for i in range(grado + 1):\n",
    "            columna_i = xs**i\n",
    "            res.append(columna_i)\n",
    "        self.matrix = np.asmatrix(res).T\n",
    "        return self.matrix\n",
    "    \n",
    "    def fit(self,grado,xi,yi):\n",
    "        A = self.armar_matriz_A(grado,xi)\n",
    "        self.coef, _, _, _ = np.linalg.lstsq(A,yi)\n",
    "        #AtA  = A.T @ A \n",
    "        #Atb  = A.T @ yi.reshape(-1,1)\n",
    "        #self.coef = np.linalg.solve(AtA, Atb)\n",
    "        \n",
    "        \n",
    "        \n",
    "    def predict(self, xs):\n",
    "        pol = self.coef\n",
    "        ys = np.zeros(xs.size)\n",
    "        for j in range(len(xs)):\n",
    "            res = 0\n",
    "            for i in range(len(pol)):\n",
    "                res += pol[i]*(xs[j]**i)\n",
    "            ys[j] = res\n",
    "        return np.array(ys)\n",
    "    "
   ]
  },
  {
   "cell_type": "code",
   "execution_count": null,
   "metadata": {},
   "outputs": [],
   "source": []
  },
  {
   "cell_type": "code",
   "execution_count": 5,
   "metadata": {},
   "outputs": [
    {
     "data": {
      "text/plain": [
       "[<matplotlib.lines.Line2D at 0x7f7af7d525f8>]"
      ]
     },
     "execution_count": 5,
     "metadata": {},
     "output_type": "execute_result"
    },
    {
     "data": {
      "image/png": "[encoded data removed]",
      "text/plain": [
       "<Figure size 432x288 with 1 Axes>"
      ]
     },
     "metadata": {
      "needs_background": "light"
     },
     "output_type": "display_data"
    }
   ],
   "source": [
    "tp3pol = TP3('pol')\n",
    "\n",
    "xi = np.asarray(df['x'])\n",
    "yi = np.asarray(df['y'])\n",
    "grado = 2\n",
    "tp3pol.fit(grado, xi, yi)\n",
    "\n",
    "xs = xi\n",
    "ys = tp3pol.predict(xi)\n",
    "\n",
    "\n",
    "plt.plot(df['x'], df['y'],'bo')\n",
    "plt.plot(xs,ys,'r.')\n",
    "\n",
    "\n",
    "# %whos"
   ]
  },
  {
   "cell_type": "markdown",
   "metadata": {},
   "source": [
    "### Limpieza"
   ]
  },
  {
   "cell_type": "code",
   "execution_count": 6,
   "metadata": {
    "scrolled": true
   },
   "outputs": [
    {
     "data": {
      "text/plain": [
       "[<matplotlib.lines.Line2D at 0x7f7af7c79780>]"
      ]
     },
     "execution_count": 6,
     "metadata": {},
     "output_type": "execute_result"
    },
    {
     "data": {
      "image/png": "[encoded data removed]",
      "text/plain": [
       "<Figure size 432x288 with 1 Axes>"
      ]
     },
     "metadata": {
      "needs_background": "light"
     },
     "output_type": "display_data"
    }
   ],
   "source": [
    "# Heurística para remover los outliers\n",
    "\n",
    "def mascara_de_no_outliers(s):\n",
    "    not_outliers = abs(s - s.mean()) <= 2*s.std()\n",
    "    return not_outliers\n",
    "\n",
    "mascara = mascara_de_no_outliers(df['y'])\n",
    "# Me quedo solo con las filas que que no son outliers\n",
    "df = df[mascara]\n",
    "plt.plot(df['x'], df['y'],'bo')"
   ]
  },
  {
   "cell_type": "code",
   "execution_count": 12,
   "metadata": {},
   "outputs": [
    {
     "data": {
      "text/plain": [
       "[<matplotlib.lines.Line2D at 0x7f7af7ac85f8>]"
      ]
     },
     "execution_count": 12,
     "metadata": {},
     "output_type": "execute_result"
    },
    {
     "data": {
      "image/png": "[encoded data removed]",
      "text/plain": [
       "<Figure size 432x288 with 1 Axes>"
      ]
     },
     "metadata": {
      "needs_background": "light"
     },
     "output_type": "display_data"
    }
   ],
   "source": [
    "tp3pol = TP3('pol')\n",
    "\n",
    "tp3pol.fit(5,np.asarray(df['x']), np.asarray(df['y']))\n",
    "ys = tp3pol.predict(np.asarray(df['x']))\n",
    "\n",
    "xs = df['x']\n",
    "plt.plot(df['x'], df['y'],'bo')\n",
    "\n",
    "\n",
    "plt.plot(xs, ys,'r.')\n"
   ]
  },
  {
   "cell_type": "markdown",
   "metadata": {},
   "source": [
    "### Predicción"
   ]
  },
  {
   "cell_type": "code",
   "execution_count": 30,
   "metadata": {
    "scrolled": false
   },
   "outputs": [],
   "source": [
    "# Graficos los datos reales para tenerlos como referencia\n",
    "\n",
    "def entrenar_y_predecir_en_rangos(df, rango_entrenamiento, rango_prediccion):\n",
    "    \n",
    "    regr = TP3('pol')\n",
    "\n",
    "    df_entrenamiento = df[df['x'].isin(rango_entrenamiento)]\n",
    "    \n",
    "    # 'Fiteo' los datos de entrenamiento\n",
    "    grado = 4\n",
    "    regr.fit(grado,df_entrenamiento['x'], df_entrenamiento['y'])\n",
    "    \n",
    "    # Grafico la aproximacion\n",
    "    df_entrenamiento['pred'] = regr.predict(np.asarray(df_entrenamiento['x']))\n",
    "\n",
    "    plt.plot(df_entrenamiento['x'], df_entrenamiento['pred'],'r-')\n",
    "\n",
    "    ## Realizo predicciones\n",
    "    \n",
    "    df_prediccion = df[df['x'].isin(rango_prediccion)]\n",
    "    \n",
    "    # Predigo los datos de testeo\n",
    "    df_prediccion['pred'] = regr.predict(np.asarray(df_prediccion['x']))\n",
    "    \n",
    "    # Grafico la prediccion\n",
    "    plt.plot(df_prediccion['x'], df_prediccion['pred'], 'g-')\n",
    "\n",
    "    ## Calculo el Error Cuadrático Medio\n",
    "    ECM = sum((df_prediccion['pred'] - df_prediccion['y'])**2) / len(df_prediccion['y'])\n",
    "    return ECM\n",
    "\n",
    "def predecir(k):\n",
    "    rango_entrenamiento = list(range(k-30,k))\n",
    "    rango_prediccion = list(range(k,k+10))\n",
    "    return entrenar_y_predecir_en_rangos(df, rango_entrenamiento, rango_prediccion)\n",
    "\n"
   ]
  },
  {
   "cell_type": "code",
   "execution_count": 31,
   "metadata": {},
   "outputs": [
    {
     "data": {
      "image/png": "[encoded data removed]",
      "text/plain": [
       "<Figure size 432x288 with 1 Axes>"
      ]
     },
     "metadata": {
      "needs_background": "light"
     },
     "output_type": "display_data"
    }
   ],
   "source": [
    "plt.plot(df['x'], df['y'],'bo')\n",
    "\n",
    "predecir(30)\n",
    " \n",
    "plt.xlim((-10,70))\n",
    "plt.show()"
   ]
  },
  {
   "cell_type": "markdown",
   "metadata": {},
   "source": [
    "### Validación"
   ]
  },
  {
   "cell_type": "code",
   "execution_count": 32,
   "metadata": {
    "scrolled": false
   },
   "outputs": [
    {
     "name": "stdout",
     "output_type": "stream",
     "text": [
      "Error de predicción: 17.34\n",
      "Error de predicción: 40.33\n",
      "Error de predicción: 16.30\n"
     ]
    },
    {
     "data": {
      "image/png": "[encoded data removed]",
      "text/plain": [
       "<Figure size 432x288 with 1 Axes>"
      ]
     },
     "metadata": {
      "needs_background": "light"
     },
     "output_type": "display_data"
    }
   ],
   "source": [
    "plt.plot(df['x'], df['y'],'bo')\n",
    "\n",
    "ECM = predecir(40)\n",
    "print(\"Error de predicción: {:.2f}\".format(ECM))\n",
    "ECM = predecir(50)\n",
    "print(\"Error de predicción: {:.2f}\".format(ECM))\n",
    "ECM = predecir(30)\n",
    "print(\"Error de predicción: {:.2f}\".format(ECM))\n",
    "    \n",
    "plt.xlim((-10,70))\n",
    "plt.show()"
   ]
  },
  {
   "cell_type": "markdown",
   "metadata": {},
   "source": [
    "### Qué errores hice?\n",
    "\n",
    "\n",
    "\n",
    "\n",
    "\n",
    "\n",
    "\n",
    "\n",
    "\n",
    "\n",
    "\n",
    "\n",
    "\n",
    "\n",
    "\n",
    "\n",
    "\n",
    "\n",
    "\n",
    "\n",
    "\n",
    "\n",
    "\n",
    "\n",
    "\n",
    "\n",
    "\n",
    "\n",
    "\n",
    "\n",
    "\n",
    "\n",
    "\n",
    "\n",
    "\n",
    "\n",
    "\n",
    "\n",
    "\n",
    "* Cómo filtro los outliers?\n",
    "* Está bien cómo calculo el ECM?\n",
    "* Qué le falta a los gráficos?"
   ]
  },
  {
   "cell_type": "markdown",
   "metadata": {},
   "source": [
    "## Consideraciones a tener en cuenta durante el TP\n",
    "* ¿Quiero predecir comportamientos particulares o generales?\n",
    "* ¿Cuánto tiempo uso para entrenar? ¿Cuánto tiempo quiero predecir?\n",
    "* ¿Qué familias de funciones elijo? ¿Por qué las elijo?\n",
    "* ¿Qué métrica utilizo para comparar distintas familias?\n",
    "* ¿Mi eje `x` tiene que ser tiempo sí o sí?\n",
    "* ¿Tengo que limitarme a usar ***una*** dimensión para predecir? ¿Puedo tener eje `x`, eje `y` y querer predecir eje `z`?\n",
    "\n",
    "## Cosas a tener en cuenta\n",
    "- ¿Cómo influye la cantidad de entradas de entrenamiento?\n",
    "- ¿Cómo obtengo una buena métrica para el _modelo_?\n",
    "- ¿Sobre qué valores mido el error cuadrático medio?\n",
    "\n",
    "\n",
    "## Por si quieren leer más\n",
    "- Validación por K-fold\n",
    "- Overfitting: https://en.wikipedia.org/wiki/Overfitting\n",
    "- Dividir el dataset en tres (training, validación y testing): https://towardsdatascience.com/train-validation-and-test-sets-72cb40cba9e7"
   ]
  },
  {
   "cell_type": "markdown",
   "metadata": {},
   "source": [
    "# Extra de Pandas"
   ]
  },
  {
   "cell_type": "code",
   "execution_count": null,
   "metadata": {},
   "outputs": [],
   "source": [
    "years = [2004]*6 + [2005]*6 + [2006]*6\n",
    "delays = list(np.random.randn(6)+80) + list(np.random.randn(6)+5) + list(np.random.randn(6)+50)\n",
    "delays[2] = 5\n",
    "delays[7] = 80\n",
    "\n",
    "df1 = pd.DataFrame({\n",
    "    'year': years,\n",
    "    'delay': delays\n",
    "})\n",
    "\n",
    "df1"
   ]
  },
  {
   "cell_type": "code",
   "execution_count": null,
   "metadata": {},
   "outputs": [],
   "source": [
    "for idx, group in df1.groupby('year'):\n",
    "    print(\"Indice:\", idx)\n",
    "    print(\"Grupo:\", group, sep=\"\\n\", end=\"\\n\\n#########\\n\\n\")"
   ]
  },
  {
   "cell_type": "code",
   "execution_count": null,
   "metadata": {
    "scrolled": false
   },
   "outputs": [],
   "source": [
    "# Groupby y sacar outliers\n",
    "\n",
    "mascara = df1.groupby('year')['delay'].apply(mascara_de_no_outliers)\n",
    "df1 = df1[mascara]\n",
    "df1"
   ]
  },
  {
   "cell_type": "code",
   "execution_count": null,
   "metadata": {},
   "outputs": [],
   "source": [
    "# Groupby y calcular promedio\n",
    "\n",
    "promedio = df1.groupby('year').aggregate(['mean', 'std', 'count'])\n",
    "promedio"
   ]
  }
 ],
 "metadata": {
  "@webio": {
   "lastCommId": null,
   "lastKernelId": null
  },
  "kernelspec": {
   "display_name": "Python 3",
   "language": "python",
   "name": "python3"
  },
  "language_info": {
   "codemirror_mode": {
    "name": "ipython",
    "version": 3
   },
   "file_extension": ".py",
   "mimetype": "text/x-python",
   "name": "python",
   "nbconvert_exporter": "python",
   "pygments_lexer": "ipython3",
   "version": "3.6.5"
  }
 },
 "nbformat": 4,
 "nbformat_minor": 2
}
