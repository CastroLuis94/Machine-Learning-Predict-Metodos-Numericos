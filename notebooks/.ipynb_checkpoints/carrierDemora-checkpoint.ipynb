{
 "cells": [
  {
   "cell_type": "code",
   "execution_count": 8,
   "metadata": {},
   "outputs": [
    {
     "name": "stdout",
     "output_type": "stream",
     "text": [
      "mkdir: no se puede crear el directorio «build»: El archivo ya existe\n",
      "-- The C compiler identification is GNU 7.4.0\n",
      "-- The CXX compiler identification is GNU 7.4.0\n",
      "-- Check for working C compiler: /usr/bin/cc\n",
      "-- Check for working C compiler: /usr/bin/cc -- works\n",
      "-- Detecting C compiler ABI info\n",
      "-- Detecting C compiler ABI info - done\n",
      "-- Detecting C compile features\n",
      "-- Detecting C compile features - done\n",
      "-- Check for working CXX compiler: /usr/bin/c++\n",
      "-- Check for working CXX compiler: /usr/bin/c++ -- works\n",
      "-- Detecting CXX compiler ABI info\n",
      "-- Detecting CXX compiler ABI info - done\n",
      "-- Detecting CXX compile features\n",
      "-- Detecting CXX compile features - done\n",
      "Release mode\n",
      "-- Found PythonInterp: /usr/bin/python3 (found version \"3.6.8\") \n",
      "-- Found PythonLibs: /usr/lib/x86_64-linux-gnu/libpython3.6m.so\n",
      "-- pybind11 v2.3.dev0\n",
      "-- Performing Test HAS_FLTO\n",
      "-- Performing Test HAS_FLTO - Success\n",
      "-- LTO enabled\n",
      "CMAKE_INSTALL_PREFIX=/home/n/Escritorio/Facu/Repos/metodos-tp3\n",
      "-- Configuring done\n",
      "-- Generating done\n",
      "-- Build files have been written to: /home/n/Escritorio/Facu/Repos/metodos-tp3/build\n",
      "\u001b[35m\u001b[1mScanning dependencies of target linearregression\u001b[0m\n",
      "[ 25%] \u001b[32mBuilding CXX object CMakeFiles/linearregression.dir/src/linearregression.cpp.o\u001b[0m\n",
      "[ 50%] \u001b[32mBuilding CXX object CMakeFiles/linearregression.dir/src/cuadradosminimos.cpp.o\u001b[0m\n",
      "[ 75%] \u001b[32mBuilding CXX object CMakeFiles/linearregression.dir/src/eigen.cpp.o\u001b[0m\n",
      "[100%] \u001b[32m\u001b[1mLinking CXX shared module linearregression.cpython-36m-x86_64-linux-gnu.so\u001b[0m\n",
      "[100%] Built target linearregression\n",
      "\u001b[36mInstall the project...\u001b[0m\n",
      "-- Install configuration: \"Release\"\n",
      "-- Installing: /home/n/Escritorio/Facu/Repos/metodos-tp3/notebooks/linearregression.cpython-36m-x86_64-linux-gnu.so\n"
     ]
    }
   ],
   "source": [
    "!cd .. && git submodule init\n",
    "!cd .. && git submodule update\n",
    "!cd .. && mkdir build\n",
    "!cd ../build/ && rm -rf *\n",
    "!cd ../build && cmake\\\n",
    "  -DPYTHON_EXECUTABLE=\"$(which python3)\" \\\n",
    "  -DCMAKE_BUILD_TYPE=Release ..\n",
    "!cd ../build && make install"
   ]
  },
  {
   "cell_type": "code",
   "execution_count": 1,
   "metadata": {},
   "outputs": [],
   "source": [
    "import linearregression\n",
    "import pandas as pd\n",
    "import numpy as np\n",
    "import matplotlib.pyplot as plt\n",
    "import math\n",
    "import matplotlib.dates as mdates"
   ]
  },
  {
   "cell_type": "code",
   "execution_count": 2,
   "metadata": {},
   "outputs": [],
   "source": [
    "def cross_validation(df,label_x,label_y,particiones,funcion,grado):\n",
    "    particion_anterior = 0\n",
    "    diferencias = []\n",
    "    tam_particion = int(df[label_x].count()/particiones)\n",
    "    for i in range(particiones):\n",
    "        if i != particiones-1:\n",
    "            particion = int(df[label_x].count()/particiones)*(i+1)\n",
    "            #data_train  = df[label_x][:particion]\n",
    "            data_train = df.index[:particion]\n",
    "            #data_test   = df[label_x][particion:particion+tam_particion]\n",
    "            data_test   = df.index[particion:particion+tam_particion]\n",
    "            label_train = df[label_y][:particion]\n",
    "            label_test  = df[label_y][particion:particion+tam_particion]\n",
    "            particion_anterior = particion\n",
    "            tp3 = linearregression.CuadradosMinimos(funcion)\n",
    "            tp3.fit(grado, data_train, label_train)\n",
    "            ys = tp3.predict(data_test)            \n",
    "            diferencias.append(sum((ys-label_test)**2))\n",
    "        #el ultimo se tiene que descartar porque por como agarro las particiones la ultima se compararia a si\n",
    "        #misma ABS\n",
    "    RMSE = (sum(diferencias)/(particiones-1))**(1./2)\n",
    "    return RMSE"
   ]
  },
  {
   "cell_type": "code",
   "execution_count": 3,
   "metadata": {},
   "outputs": [],
   "source": [
    "def cross_validation_fusion(df,label_x,label_y,particiones,funcion,grado,pi):\n",
    "    particion_anterior = 0\n",
    "    diferencias = []\n",
    "    tam_particion = int(df[label_x].count()/particiones)\n",
    "    for i in range(particiones):\n",
    "        if i != particiones-1:\n",
    "            particion = int(df[label_x].count()/particiones)*(i+1)\n",
    "            #data_train  = df[label_x][:particion]\n",
    "            data_train = df.index[:particion]\n",
    "            #data_test   = df[label_x][particion:particion+tam_particion]\n",
    "            data_test   = df.index[particion:particion+tam_particion]\n",
    "            label_train = df[label_y][:particion]\n",
    "            label_test  = df[label_y][particion:particion+tam_particion]\n",
    "            particion_anterior = particion\n",
    "            tp3 = linearregression.CuadradosMinimos(funcion)\n",
    "            tp3.fit_fusion(grado,pi, data_train, label_train)\n",
    "            ys = tp3.predict(data_test)            \n",
    "            diferencias.append(sum((ys-label_test)**2))\n",
    "        #el ultimo se tiene que descartar porque por como agarro las particiones la ultima se compararia a si\n",
    "        #misma ABS\n",
    "    RMSE = (sum(diferencias)/(particiones-1))**(1./2)\n",
    "    return RMSE"
   ]
  },
  {
   "cell_type": "code",
   "execution_count": 4,
   "metadata": {},
   "outputs": [],
   "source": [
    "def entrenar_y_predecir_en_rangos(df, rango_entrenamiento, rango_prediccion,familia):\n",
    "    #yolo\n",
    "    particiones = 2\n",
    "    if familia != 'fusion':\n",
    "        regr = linearregression.CuadradosMinimos(familia)\n",
    "        df_entrenamiento = df[df.index.isin(rango_entrenamiento)]    \n",
    "        xi =df_entrenamiento.index.values.astype(float)\n",
    "        # 'Fiteo' los datos de entrenamiento\n",
    "        grado = 0\n",
    "        min_rmse = cross_validation(df,'Month','Delay',particiones,familia,grado)\n",
    "        mejor_grado = 0\n",
    "        if familia == 'pol':\n",
    "            while grado <= 20:\n",
    "                rmse = cross_validation(df,'Month','Delay',particiones,familia,grado)\n",
    "                grado += 1\n",
    "                if min_rmse > rmse:\n",
    "                    min_rmse = rmse\n",
    "                    mejor_grado = grado\n",
    "            print(\"Mejor grado pol:{0}\".format(mejor_grado))\n",
    "            print(\"Minimo RMSE :{0}\".format(min_rmse))\n",
    "        else:\n",
    "            while grado < 20:\n",
    "                rmse = cross_validation(df,'Month','Delay',particiones,familia,grado*math.pi)\n",
    "                grado += 0.01                \n",
    "                if min_rmse > rmse:\n",
    "                    min_rmse = rmse\n",
    "                    mejor_grado = grado*math.pi\n",
    "            print(\"Mejor grado cte pi:{0}\".format(mejor_grado))\n",
    "            print(\"Minimo RMSE :{0}\".format(min_rmse))\n",
    "        regr.fit(mejor_grado,xi, df_entrenamiento['Delay'])\n",
    "        df_entrenamiento['pred'] = regr.predict(xi)\n",
    "        ax.plot(df_entrenamiento.index.values+1, df_entrenamiento['pred'],'r-')\n",
    "        ## Realizo predicciones\n",
    "        df_prediccion = df[df.index.isin(rango_prediccion)]\n",
    "        xs = df_prediccion.index.values.astype(float)\n",
    "        # Predigo los datos de testeo\n",
    "        df_prediccion['pred'] = regr.predict(xs)\n",
    "        # Grafico la prediccion\n",
    "        ax.plot(df_prediccion.index.values+1, df_prediccion['pred'], 'g-')\n",
    "\n",
    "        ## Calculo el Error Cuadrático Mediodf_prediccion['y'\n",
    "        ECM = ((df_prediccion['pred'] - df_prediccion['Delay'])**2).mean()\n",
    "        return ECM\n",
    "    else:\n",
    "        regr = linearregression.CuadradosMinimos(familia)\n",
    "        df_entrenamiento = df[df.index.isin(rango_entrenamiento)]    \n",
    "        xi =df_entrenamiento.index.values.astype(float)\n",
    "        # 'Fiteo' los datos de entrenamiento\n",
    "        grado = 0\n",
    "        pi = 0\n",
    "        min_rmse = cross_validation_fusion(df,'Month','Delay',particiones,familia,grado,pi*math.pi)\n",
    "        mejor_grado = 0\n",
    "        mejor_pi = 0\n",
    "        while grado <= 5:\n",
    "            pi = 0\n",
    "            while pi < 2:\n",
    "                rmse = cross_validation_fusion(df,'Month','Delay',particiones,familia,grado,pi*math.pi)\n",
    "                if min_rmse > rmse:\n",
    "                    min_rmse = rmse\n",
    "                    mejor_grado = grado\n",
    "                    mejor_pi = pi\n",
    "                pi += 0.01\n",
    "            grado +=1\n",
    "        print(\"Mejor grado pol:{0}\".format(mejor_grado))\n",
    "        print(\"Mejor grado cte pi:{0}\".format(mejor_pi))\n",
    "        print(\"Minimo RMSE :{0}\".format(min_rmse))\n",
    "        regr.fit_fusion(mejor_grado,mejor_pi*math.pi,xi, df_entrenamiento['Delay'])\n",
    "        df_entrenamiento['pred'] = regr.predict(xi)\n",
    "        ax.plot(df_entrenamiento.index.values+1, df_entrenamiento['pred'],'r-')\n",
    "        ## Realizo predicciones\n",
    "        df_prediccion = df[df.index.isin(rango_prediccion)]\n",
    "        xs = df_prediccion.index.values.astype(float)\n",
    "        # Predigo los datos de testeo\n",
    "        df_prediccion['pred'] = regr.predict(xs)\n",
    "        # Grafico la prediccion\n",
    "        ax.plot(df_prediccion.index.values+1, df_prediccion['pred'], 'g-')\n",
    "\n",
    "        ## Calculo el Error Cuadrático Mediodf_prediccion['y'\n",
    "        ECM = ((df_prediccion['pred'] - df_prediccion['Delay'])**2).mean()\n",
    "        return ECM\n",
    "        \n",
    "\n",
    "def predecir(k,familia):\n",
    "    rango_entrenamiento =(df.index[0:k+1] )    \n",
    "    rango_prediccion = (df.index[k:k+4] )\n",
    "    return entrenar_y_predecir_en_rangos(df, rango_entrenamiento, rango_prediccion,familia)"
   ]
  },
  {
   "cell_type": "code",
   "execution_count": 5,
   "metadata": {},
   "outputs": [
    {
     "name": "stdout",
     "output_type": "stream",
     "text": [
      "Mejor grado pol:0\n",
      "Mejor grado cte pi:0.16\n",
      "Minimo RMSE :0.0478152613562639\n",
      "Error de predicción: 0.00038520\n"
     ]
    },
    {
     "name": "stderr",
     "output_type": "stream",
     "text": [
      "/usr/local/lib/python3.6/dist-packages/ipykernel_launcher.py:68: SettingWithCopyWarning: \n",
      "A value is trying to be set on a copy of a slice from a DataFrame.\n",
      "Try using .loc[row_indexer,col_indexer] = value instead\n",
      "\n",
      "See the caveats in the documentation: http://pandas.pydata.org/pandas-docs/stable/indexing.html#indexing-view-versus-copy\n",
      "/usr/local/lib/python3.6/dist-packages/ipykernel_launcher.py:74: SettingWithCopyWarning: \n",
      "A value is trying to be set on a copy of a slice from a DataFrame.\n",
      "Try using .loc[row_indexer,col_indexer] = value instead\n",
      "\n",
      "See the caveats in the documentation: http://pandas.pydata.org/pandas-docs/stable/indexing.html#indexing-view-versus-copy\n"
     ]
    },
    {
     "data": {
      "image/png": "[encoded data removed]",
      "text/plain": [
       "<Figure size 432x288 with 1 Axes>"
      ]
     },
     "metadata": {
      "needs_background": "light"
     },
     "output_type": "display_data"
    }
   ],
   "source": [
    "df = pd.read_csv('salidaEV.csv', encoding='latin-1')\n",
    "ig, ax= plt.subplots()\n",
    "ECM = predecir(8,'fusion')\n",
    "print(\"Error de predicción: {:.8f}\".format(ECM))\n",
    "ax.plot([x for x in range(1,13)], \n",
    "        df['Delay'], \n",
    "        color = 'blue')\n",
    "# rotate tick labels\n",
    "plt.setp(ax.get_xticklabels(), rotation=45)\n",
    "\n",
    "# set title and labels for axes\n",
    "ax.set(xlabel=\"Meses\",\n",
    "       ylabel=\"#VuelosDemorados/Totales, por mes\",\n",
    "       title=\"Demora de Atlantic Southeast Airlines en 2006\");\n",
    "plt.show()"
   ]
  },
  {
   "cell_type": "code",
   "execution_count": 6,
   "metadata": {},
   "outputs": [
    {
     "name": "stdout",
     "output_type": "stream",
     "text": [
      "Mejor grado pol:3\n",
      "Mejor grado cte pi:0.5700000000000003\n",
      "Minimo RMSE :0.013751652193586395\n",
      "Error de predicción: 0.00008580\n"
     ]
    },
    {
     "name": "stderr",
     "output_type": "stream",
     "text": [
      "/usr/local/lib/python3.6/dist-packages/ipykernel_launcher.py:68: SettingWithCopyWarning: \n",
      "A value is trying to be set on a copy of a slice from a DataFrame.\n",
      "Try using .loc[row_indexer,col_indexer] = value instead\n",
      "\n",
      "See the caveats in the documentation: http://pandas.pydata.org/pandas-docs/stable/indexing.html#indexing-view-versus-copy\n",
      "/usr/local/lib/python3.6/dist-packages/ipykernel_launcher.py:74: SettingWithCopyWarning: \n",
      "A value is trying to be set on a copy of a slice from a DataFrame.\n",
      "Try using .loc[row_indexer,col_indexer] = value instead\n",
      "\n",
      "See the caveats in the documentation: http://pandas.pydata.org/pandas-docs/stable/indexing.html#indexing-view-versus-copy\n"
     ]
    },
    {
     "data": {
      "image/png": "[encoded data removed]",
      "text/plain": [
       "<Figure size 432x288 with 1 Axes>"
      ]
     },
     "metadata": {
      "needs_background": "light"
     },
     "output_type": "display_data"
    }
   ],
   "source": [
    "df = pd.read_csv('salidaHA.csv', encoding='latin-1')\n",
    "ig, ax= plt.subplots()\n",
    "ECM = predecir(8,'fusion')\n",
    "print(\"Error de predicción: {:.8f}\".format(ECM))\n",
    "ax.plot([x for x in range(1,13)], \n",
    "        df['Delay'], \n",
    "        color = 'blue')\n",
    "# rotate tick labels\n",
    "plt.setp(ax.get_xticklabels(), rotation=45)\n",
    "\n",
    "# set title and labels for axes\n",
    "ax.set(xlabel=\"Meses\",\n",
    "       ylabel=\"#VuelosDemorados/Totales, por mes\",\n",
    "       title=\"Demora de Hawaiian Airlines Inc. en 2006\");\n",
    "plt.show()"
   ]
  },
  {
   "cell_type": "code",
   "execution_count": null,
   "metadata": {},
   "outputs": [],
   "source": []
  }
 ],
 "metadata": {
  "kernelspec": {
   "display_name": "Python 3",
   "language": "python",
   "name": "python3"
  },
  "language_info": {
   "codemirror_mode": {
    "name": "ipython",
    "version": 3
   },
   "file_extension": ".py",
   "mimetype": "text/x-python",
   "name": "python",
   "nbconvert_exporter": "python",
   "pygments_lexer": "ipython3",
   "version": "3.6.8"
  }
 },
 "nbformat": 4,
 "nbformat_minor": 2
}
