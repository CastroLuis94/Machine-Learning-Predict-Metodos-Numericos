{
 "cells": [
  {
   "cell_type": "code",
   "execution_count": 37,
   "metadata": {},
   "outputs": [],
   "source": [
    "import numpy as np                   # Para cosas de álgebra lineal\n",
    "import matplotlib.pyplot as plt      # Para gráficos\n",
    "# %matplotlib inline"
   ]
  },
  {
   "cell_type": "markdown",
   "metadata": {},
   "source": [
    "# Precalentamiento con ejs. de la práctica 8\n",
    "\n"
   ]
  },
  {
   "cell_type": "markdown",
   "metadata": {},
   "source": [
    "## Ej 12.\n",
    "\n",
    "La recta $f(x)=a + b x$ debe ajustarse a los siguientes datos:\n",
    "\n",
    "  xi = [-2 , -1 , 0 , 1 , 2]\n",
    "  \n",
    "  yi = [ 0.5 , 0.5 , 2 , 3.5 , 3.5]\n",
    "\n",
    "Determinar $a$ y $b$ de modo que $\\sum_{i=1}^{5}(f(x_{i})-y_{i})^{2}$\n",
    "sea mínima."
   ]
  },
  {
   "cell_type": "code",
   "execution_count": 41,
   "metadata": {},
   "outputs": [
    {
     "name": "stdout",
     "output_type": "stream",
     "text": [
      "[[ 1. -2.  4. -8.]\n",
      " [ 1. -1.  1. -1.]\n",
      " [ 1.  0.  0.  0.]\n",
      " [ 1.  1.  1.  1.]\n",
      " [ 1.  2.  4.  8.]]\n"
     ]
    },
    {
     "data": {
      "text/plain": [
       "[<matplotlib.lines.Line2D at 0x7f75fe67eda0>]"
      ]
     },
     "execution_count": 41,
     "metadata": {},
     "output_type": "execute_result"
    },
    {
     "data": {
      "image/png": "[encoded data removed]",
      "text/plain": [
       "<Figure size 432x288 with 1 Axes>"
      ]
     },
     "metadata": {
      "needs_background": "light"
     },
     "output_type": "display_data"
    }
   ],
   "source": [
    "xi = np.array([-2 , -1 , 0 , 1 , 2], dtype=float)\n",
    "yi = np.array([ 0.5 , 0.5 , 2 , 3.5 , 3.5], dtype=float)\n",
    "\n",
    "\n",
    "plt.plot(xi,yi,'bo')\n",
    "\n",
    "# crear matriz A\n",
    "\n",
    "A = np.asmatrix([ [1 for x in xi], xi]).T\n",
    "\n",
    "def crear_matrix_poli(grado,xs):\n",
    "    res = []\n",
    "    for i in range(grado + 1):\n",
    "        columna_i = xs**i\n",
    "        res.append(columna_i)\n",
    "    return np.asmatrix(res).T\n",
    "print(crear_matrix_poli(3,xi))\n",
    "\n",
    "\n",
    "AtA = A.T @ A\n",
    "Atb = A.T @ yi.reshape(-1,1)\n",
    "\n",
    "\n",
    "\n",
    "a,b = np.linalg.solve(AtA, Atb)\n",
    "\n",
    "\n",
    "def func(x,a,b):\n",
    "    return a + x*b\n",
    "\n",
    "\n",
    "xs = np.arange(-2.5,2.5,0.1)\n",
    "ys = np.zeros(xs.size)\n",
    "for i,x in enumerate(xs):\n",
    "    y = func(x,a,b)\n",
    "    ys[i] = y\n",
    "    \n",
    "\n",
    "plt.plot(xs,ys,'r.')\n"
   ]
  },
  {
   "cell_type": "markdown",
   "metadata": {},
   "source": [
    "## Ej 13\n",
    "Encontrar los polinomios de cuadrados mínimos de grados 1,\n",
    "2, 3 y 4 para los datos de la siguiente tabla:\n",
    "\n",
    "  xi = [0 , 0.15 , 0.31 , 0.5 , 0.6 , 0.75] \n",
    "  \n",
    "  yi = [1.0 , 1.004 , 1.031 , 1.117 , 1.223 , 1.422]\n",
    "\n",
    "Con cuál grado se obtiene la mejor aproximación de\n",
    "cuadrados mínimos (es decir, la de menor error)?\n",
    "\n"
   ]
  },
  {
   "cell_type": "code",
   "execution_count": 46,
   "metadata": {},
   "outputs": [
    {
     "name": "stdout",
     "output_type": "stream",
     "text": [
      "[[1.0000000e+00 0.0000000e+00 0.0000000e+00 0.0000000e+00 0.0000000e+00]\n",
      " [1.0000000e+00 1.5000000e-01 2.2500000e-02 3.3750000e-03 5.0625000e-04]\n",
      " [1.0000000e+00 3.1000000e-01 9.6100000e-02 2.9791000e-02 9.2352100e-03]\n",
      " [1.0000000e+00 5.0000000e-01 2.5000000e-01 1.2500000e-01 6.2500000e-02]\n",
      " [1.0000000e+00 6.0000000e-01 3.6000000e-01 2.1600000e-01 1.2960000e-01]\n",
      " [1.0000000e+00 7.5000000e-01 5.6250000e-01 4.2187500e-01 3.1640625e-01]]\n"
     ]
    },
    {
     "data": {
      "text/plain": [
       "[<matplotlib.lines.Line2D at 0x7f75fe117b00>]"
      ]
     },
     "execution_count": 46,
     "metadata": {},
     "output_type": "execute_result"
    },
    {
     "data": {
      "image/png": "[encoded data removed]",
      "text/plain": [
       "<Figure size 432x288 with 1 Axes>"
      ]
     },
     "metadata": {
      "needs_background": "light"
     },
     "output_type": "display_data"
    }
   ],
   "source": [
    "xi = np.array([0 , 0.15 , 0.31 , 0.5 , 0.6 , 0.75])\n",
    "yi = np.array([1.0 , 1.004 , 1.031 , 1.117 , 1.223 , 1.422])\n",
    "\n",
    "\n",
    "plt.plot(xi,yi,'bo')\n",
    "\n",
    "# Crer matriz A\n",
    "\n",
    "A = np.asmatrix([ [1 for x in xi], xi , [x**2 for x in xi] , [x**3 for x in xi] , [x**4 for x in xi] ]).T\n",
    "print(A)\n",
    "\n",
    "AtA = A.T @ A\n",
    "Atb = A.T @ yi.reshape(-1,1)\n",
    "\n",
    "\n",
    "\n",
    "a,b,c,d,e= np.linalg.solve(AtA, Atb)\n",
    "\n",
    "def func(x,a,b):\n",
    "    return a + x*b\n",
    "\n",
    "xs = np.arange(0,1,0.01)\n",
    "ys = np.zeros(xs.size)\n",
    "for i,x in enumerate(xs):\n",
    "    ys[i] = eval('a+b*x+c*x**2+d*x**3+e*x**4')\n",
    "\n",
    "\n",
    "plt.plot(xs,ys,'r.')\n"
   ]
  },
  {
   "cell_type": "code",
   "execution_count": 47,
   "metadata": {},
   "outputs": [
    {
     "data": {
      "text/plain": [
       "\u001b[0;31mSignature:\u001b[0m \u001b[0meval\u001b[0m\u001b[0;34m(\u001b[0m\u001b[0msource\u001b[0m\u001b[0;34m,\u001b[0m \u001b[0mglobals\u001b[0m\u001b[0;34m=\u001b[0m\u001b[0;32mNone\u001b[0m\u001b[0;34m,\u001b[0m \u001b[0mlocals\u001b[0m\u001b[0;34m=\u001b[0m\u001b[0;32mNone\u001b[0m\u001b[0;34m,\u001b[0m \u001b[0;34m/\u001b[0m\u001b[0;34m)\u001b[0m\u001b[0;34m\u001b[0m\u001b[0;34m\u001b[0m\u001b[0m\n",
       "\u001b[0;31mDocstring:\u001b[0m\n",
       "Evaluate the given source in the context of globals and locals.\n",
       "\n",
       "The source may be a string representing a Python expression\n",
       "or a code object as returned by compile().\n",
       "The globals must be a dictionary and locals can be any mapping,\n",
       "defaulting to the current globals and locals.\n",
       "If only globals is given, locals defaults to it.\n",
       "\u001b[0;31mType:\u001b[0m      builtin_function_or_method\n"
      ]
     },
     "metadata": {},
     "output_type": "display_data"
    }
   ],
   "source": [
    "eval?"
   ]
  },
  {
   "cell_type": "code",
   "execution_count": null,
   "metadata": {},
   "outputs": [],
   "source": []
  }
 ],
 "metadata": {
  "kernelspec": {
   "display_name": "Python 3",
   "language": "python",
   "name": "python3"
  },
  "language_info": {
   "codemirror_mode": {
    "name": "ipython",
    "version": 3
   },
   "file_extension": ".py",
   "mimetype": "text/x-python",
   "name": "python",
   "nbconvert_exporter": "python",
   "pygments_lexer": "ipython3",
   "version": "3.6.5"
  }
 },
 "nbformat": 4,
 "nbformat_minor": 2
}
